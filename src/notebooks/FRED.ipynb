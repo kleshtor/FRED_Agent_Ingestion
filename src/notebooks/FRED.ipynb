{
 "cells": [
  {
   "cell_type": "code",
   "execution_count": null,
   "id": "3dbb2b17",
   "metadata": {},
   "outputs": [],
   "source": [
    "import os\n",
    "os.chdir('..')"
   ]
  },
  {
   "cell_type": "code",
   "execution_count": null,
   "id": "7033d54d",
   "metadata": {},
   "outputs": [],
   "source": [
    "# Step 1: Setup paths and imports\n",
    "import os\n",
    "import sys\n",
    "\n",
    "# Add the src directory to Python path for imports\n",
    "current_dir = os.path.dirname(os.path.abspath('__file__'))\n",
    "src_dir = os.path.join(current_dir, '..')\n",
    "sys.path.append(src_dir)\n",
    "\n",
    "# Change to src directory for relative file paths\n",
    "os.chdir(src_dir)\n",
    "\n",
    "# Step 2: Load environment variables\n",
    "from dotenv import load_dotenv\n",
    "load_dotenv() \n",
    "\n",
    "# Step 3: Run the Agent\n",
    "from helper_functions.fred_operations import FredAgent\n",
    "\n",
    "# Use absolute path to config file\n",
    "config_path = os.path.join(\"helper_functions\", \"config.yaml\")\n",
    "print(f\"Loading config from: {os.path.abspath(config_path)}\")\n",
    "\n",
    "agent = FredAgent(config_path=config_path)\n",
    "agent.run()\n",
    "\n",
    "# Step 4: Done\n",
    "print(\"FRED Agent run completed successfully.\")\n"
   ]
  },
  {
   "cell_type": "code",
   "execution_count": null,
   "id": "984009af",
   "metadata": {},
   "outputs": [],
   "source": [
    "import os\n",
    "os.chdir('..')\n",
    "from helper_functions.query_agent import QueryAgent\n",
    "import nest_asyncio\n",
    "nest_asyncio.apply()\n",
    "\n",
    "# Initialize the query agent\n",
    "print(\"🚀 Initializing FRED Query Agent...\")\n",
    "query_agent = QueryAgent()\n",
    "print(\"✅ Query Agent initialized!\")\n",
    "\n",
    "# Test with a simple query\n",
    "query = \"Indian Energy Imports\"\n",
    "print(f\"\\n📝 Testing query: '{query}'\")\n",
    "print(\"=\" * 60)\n",
    "\n",
    "# Run the query \n",
    "response = query_agent.run_query_sync(query)\n",
    "print(f\"\\n🤖 Agent Response:\\n{response}\")\n",
    "print(\"=\" * 60)\n",
    "\n"
   ]
  },
  {
   "cell_type": "code",
   "execution_count": null,
   "id": "0502e77d",
   "metadata": {},
   "outputs": [],
   "source": []
  }
 ],
 "metadata": {
  "kernelspec": {
   "display_name": "venv",
   "language": "python",
   "name": "python3"
  },
  "language_info": {
   "codemirror_mode": {
    "name": "ipython",
    "version": 3
   },
   "file_extension": ".py",
   "mimetype": "text/x-python",
   "name": "python",
   "nbconvert_exporter": "python",
   "pygments_lexer": "ipython3",
   "version": "3.13.5"
  }
 },
 "nbformat": 4,
 "nbformat_minor": 5
}
