{
 "cells": [
  {
   "cell_type": "code",
   "execution_count": 2,
   "id": "838a9a85",
   "metadata": {},
   "outputs": [],
   "source": [
    "import os\n",
    "os.chdir('..')"
   ]
  },
  {
   "cell_type": "code",
   "execution_count": 1,
   "id": "7033d54d",
   "metadata": {},
   "outputs": [
    {
     "name": "stdout",
     "output_type": "stream",
     "text": [
      "Loading config from: c:\\Users\\71439\\OneDrive - Bain\\Desktop\\New_Agent\\src\\helper_functions\\FRED.yaml\n",
      "PostgreSQL schema ensured.\n",
      "\n",
      "Processing: USA\n",
      "Saved: excel-output/United_States_Monthly.xlsx\n",
      "Saved: excel-output/United_States_Quarterly.xlsx\n",
      "Saved: excel-output/United_States_Annual.xlsx\n",
      "Updated dictionary with 7 new entries.\n",
      "Embedding Summary → Processed: 7 | Skipped: 0 | Errors: 0\n",
      "Embedding Generation Complete: {'total': 7, 'processed': 7, 'skipped': 0, 'errors': 0}\n",
      "FRED Agent run completed successfully.\n"
     ]
    }
   ],
   "source": [
    "# Step 1: Setup paths and imports\n",
    "import os\n",
    "import sys\n",
    "\n",
    "# Add the src directory to Python path for imports\n",
    "current_dir = os.path.dirname(os.path.abspath('__file__'))\n",
    "src_dir = os.path.join(current_dir, '..')\n",
    "sys.path.append(src_dir)\n",
    "\n",
    "# Change to src directory for relative file paths\n",
    "os.chdir(src_dir)\n",
    "\n",
    "# Step 2: Load environment variables\n",
    "from dotenv import load_dotenv\n",
    "load_dotenv() \n",
    "\n",
    "# Step 3: Run the Agent\n",
    "from helper_functions.FRED_AGENT_SDK import FredAgent\n",
    "\n",
    "# Use absolute path to config file\n",
    "config_path = os.path.join(\"helper_functions\", \"FRED.yaml\")\n",
    "print(f\"Loading config from: {os.path.abspath(config_path)}\")\n",
    "\n",
    "agent = FredAgent(config_path=config_path)\n",
    "agent.run()\n",
    "\n",
    "# Step 4: Done\n",
    "print(\"FRED Agent run completed successfully.\")\n"
   ]
  },
  {
   "cell_type": "code",
   "execution_count": 2,
   "id": "c3f80484",
   "metadata": {},
   "outputs": [
    {
     "name": "stdout",
     "output_type": "stream",
     "text": [
      "Processing query: 'Unemployment Rate'\n",
      "Converting query to embedding...\n",
      "Connecting to embedding database...\n",
      "PostgreSQL schema ensured.\n",
      "Searching for similar indicators...\n",
      "\n",
      "================================================================================\n",
      "SEARCH RESULTS FOR: 'Unemployment Rate'\n",
      "================================================================================\n",
      "\n",
      "--- MATCH 1 ---\n",
      "Indicator ID: PAYEMS\n",
      "Name: All Employees, Total Nonfarm\n",
      "Similarity Score: 0.3970\n",
      "Description: Measures the total number of paid workers in the U.S. excluding farm workers, government employees, private household employees, and non-profit organization employees. This data is reported on a monthly basis. As a key indicator of labor market health, it provides insights into employment trends and economic activity, influencing policy decisions and economic forecasts.\n",
      "------------------------------------------------------------\n",
      "\n",
      "--- MATCH 2 ---\n",
      "Indicator ID: RIFSPFFNA\n",
      "Name: Federal Funds Effective Rate\n",
      "Similarity Score: 0.3962\n",
      "Description: Input: Federal Funds Effective Rate for United States, reported annually  \n",
      "Output: Reflects the interest rate at which depository institutions lend reserve balances to other depository institutions overnight. This data is reported on an annual basis. As a critical tool for monetary policy, it influences borrowing costs, economic activity, and inflation, playing a vital role in guiding the overall economic stability and growth.\n",
      "------------------------------------------------------------\n",
      "\n",
      "--- MATCH 3 ---\n",
      "Indicator ID: CES0500000003\n",
      "Name: Average Hourly Earnings of All Employees, Total Private\n",
      "Similarity Score: 0.3616\n",
      "Description: Measures the average earnings per hour of all employees in the private sector in the United States. This data is reported on a monthly basis. It serves as an important indicator of wage trends and consumer purchasing power, influencing inflation assessments and monetary policy decisions.\n",
      "------------------------------------------------------------\n",
      "🔌 PostgreSQL connection closed.\n"
     ]
    },
    {
     "data": {
      "text/plain": [
       "[{'indicator_id': 'PAYEMS',\n",
       "  'indicator_name': 'All Employees, Total Nonfarm',\n",
       "  'description': 'Measures the total number of paid workers in the U.S. excluding farm workers, government employees, private household employees, and non-profit organization employees. This data is reported on a monthly basis. As a key indicator of labor market health, it provides insights into employment trends and economic activity, influencing policy decisions and economic forecasts.',\n",
       "  'distance': 0.6030030785201138,\n",
       "  'similarity': 0.3969969214798862},\n",
       " {'indicator_id': 'RIFSPFFNA',\n",
       "  'indicator_name': 'Federal Funds Effective Rate',\n",
       "  'description': 'Input: Federal Funds Effective Rate for United States, reported annually  \\nOutput: Reflects the interest rate at which depository institutions lend reserve balances to other depository institutions overnight. This data is reported on an annual basis. As a critical tool for monetary policy, it influences borrowing costs, economic activity, and inflation, playing a vital role in guiding the overall economic stability and growth.',\n",
       "  'distance': 0.6038100297677453,\n",
       "  'similarity': 0.39618997023225466},\n",
       " {'indicator_id': 'CES0500000003',\n",
       "  'indicator_name': 'Average Hourly Earnings of All Employees, Total Private',\n",
       "  'description': 'Measures the average earnings per hour of all employees in the private sector in the United States. This data is reported on a monthly basis. It serves as an important indicator of wage trends and consumer purchasing power, influencing inflation assessments and monetary policy decisions.',\n",
       "  'distance': 0.6383545588956641,\n",
       "  'similarity': 0.36164544110433594}]"
      ]
     },
     "execution_count": 2,
     "metadata": {},
     "output_type": "execute_result"
    }
   ],
   "source": [
    "from helper_functions.search_and_query import search_and_query\n",
    "\n",
    "search_and_query(\"Unemployment Rate\")"
   ]
  },
  {
   "cell_type": "code",
   "execution_count": 3,
   "id": "c2807eaf",
   "metadata": {},
   "outputs": [
    {
     "name": "stdout",
     "output_type": "stream",
     "text": [
      "Extracting data for Indicator ID: 'PAYEMS'\n",
      "Loading indicator metadata...\n",
      "Looking for data in: C:\\Users\\71439\\OneDrive - Bain\\Desktop\\New_Agent\\src\\excel-output\\United_States_Monthly.xlsx\n",
      "Finding indicator column in Excel file...\n",
      "Extracting time series data from column: All_Employees,_Total_Nonfarm_M\n",
      "\n",
      "================================================================================\n",
      "INDICATOR DATA EXTRACTED\n",
      "================================================================================\n",
      "Indicator ID: PAYEMS\n",
      "Name: All Employees, Total Nonfarm\n",
      "Description: Measures the total number of paid workers in the U.S. excluding farm workers, government employees, private household employees, and non-profit organization employees. This data is reported on a monthly basis. As a key indicator of labor market health, it provides insights into employment trends and economic activity, influencing policy decisions and economic forecasts.\n",
      "Frequency: M\n",
      "Geography: United States\n",
      "\n",
      "Data Range: 1939-01-01 00:00:00 to 2025-06-01 00:00:00\n",
      "Total Observations: 1038\n",
      "Non-null Observations: 1038\n",
      "\n",
      "Recent Data (Last 5 observations):\n",
      "----------------------------------------\n",
      "2025-02-01: 159155.0\n",
      "2025-03-01: 159275.0\n",
      "2025-04-01: 159433.0\n",
      "2025-05-01: 159577.0\n",
      "2025-06-01: 159724.0\n",
      "--------------------------------------------------------------------------------\n"
     ]
    },
    {
     "data": {
      "text/plain": [
       "({'Indicator Name': 'All Employees, Total Nonfarm',\n",
       "  'Indicator ID': 'PAYEMS',\n",
       "  'Description': 'Measures the total number of paid workers in the U.S. excluding farm workers, government employees, private household employees, and non-profit organization employees. This data is reported on a monthly basis. As a key indicator of labor market health, it provides insights into employment trends and economic activity, influencing policy decisions and economic forecasts.',\n",
       "  'Frequency': 'M',\n",
       "  'Geography': 'United States'},\n",
       " 1939-01-01     29923.0\n",
       " 1939-02-01     30100.0\n",
       " 1939-03-01     30280.0\n",
       " 1939-04-01     30094.0\n",
       " 1939-05-01     30299.0\n",
       "                 ...   \n",
       " 2025-02-01    159155.0\n",
       " 2025-03-01    159275.0\n",
       " 2025-04-01    159433.0\n",
       " 2025-05-01    159577.0\n",
       " 2025-06-01    159724.0\n",
       " Name: All_Employees,_Total_Nonfarm_M, Length: 1038, dtype: float64)"
      ]
     },
     "execution_count": 3,
     "metadata": {},
     "output_type": "execute_result"
    }
   ],
   "source": [
    "from helper_functions.extract_data import extract_data\n",
    "\n",
    "extract_data(\"PAYEMS\")"
   ]
  },
  {
   "cell_type": "code",
   "execution_count": null,
   "id": "7eb8b94a",
   "metadata": {},
   "outputs": [],
   "source": []
  }
 ],
 "metadata": {
  "kernelspec": {
   "display_name": "venv",
   "language": "python",
   "name": "python3"
  },
  "language_info": {
   "codemirror_mode": {
    "name": "ipython",
    "version": 3
   },
   "file_extension": ".py",
   "mimetype": "text/x-python",
   "name": "python",
   "nbconvert_exporter": "python",
   "pygments_lexer": "ipython3",
   "version": "3.13.5"
  }
 },
 "nbformat": 4,
 "nbformat_minor": 5
}
