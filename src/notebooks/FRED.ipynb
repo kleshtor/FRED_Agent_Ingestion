{
 "cells": [
  {
   "cell_type": "code",
   "execution_count": 1,
   "id": "7033d54d",
   "metadata": {},
   "outputs": [
    {
     "name": "stdout",
     "output_type": "stream",
     "text": [
      "Loading config from: c:\\Users\\71439\\OneDrive - Bain\\Desktop\\FRED_Agent_Ingestion\\src\\helper_functions\\config.yaml\n",
      "PostgreSQL schema ensured.\n",
      "\n",
      "Processing: Vietnam\n",
      "   🔍 **FRED SEARCH AND PROCESSING DETAILS**\n",
      "      📅 Date range: 1900-01-01 to 2025-07-31\n",
      "      🌍 Normalized country: Vietnam\n",
      "      💾 Loading existing Excel files...\n",
      "         📄 Monthly: No existing data (will create new)\n",
      "         📄 Quarterly: No existing data (will create new)\n",
      "         📈 Loaded Annual: 1 series, 126 rows\n",
      "\n",
      "      🔍 **SEARCH TERM 1/1: 'inflation rate'**\n",
      "         🌐 FRED Query: 'inflation rate Vietnam'\n",
      "         ⏳ Searching FRED database...\n",
      "         ✅ Found 1 potential indicators\n",
      "         🔄 Processing each indicator...\n",
      "\n",
      "            📊 **INDICATOR 1/1**\n",
      "               🏷️ ID: FPCPITOTLZGVNM\n",
      "               📝 Title: Inflation, consumer prices for Viet Nam\n",
      "               📅 Frequency: Annual\n",
      "               📏 Units: Percent\n",
      "               ⏭️ Skipping: Already exists in local Annual data\n",
      "\n",
      "      📊 **PROCESSING COMPLETE**\n",
      "         🔢 Total indicators examined: 1\n",
      "         ✅ New indicators added: 0\n",
      "         ⏭️ Skipped (already exist): 1\n",
      "         ❌ Skipped (invalid/no data): 0\n",
      "         📭 Monthly dataset: Empty\n",
      "         📭 Quarterly dataset: Empty\n",
      "         📈 Annual dataset: 1 series, 126 time periods\n",
      "Saved: c:\\Users\\71439\\OneDrive - Bain\\Desktop\\FRED_Agent_Ingestion\\src\\excel-output\\Vietnam_Annual.xlsx\n",
      "      📝 **DICTIONARY UPDATE PROCESS**\n",
      "         ⏭️ No new indicators to add to dictionary\n",
      "      🧠 **EMBEDDING GENERATION PROCESS**\n",
      "         🔄 Processing dictionary for vector embeddings...\n",
      "         📁 Dictionary file: FRED_DataDictionary.xlsx\n",
      "Embedding Summary → Processed: 0 | Skipped: 1 | Errors: 0\n",
      "         ✅ Embedding generation complete\n",
      "         📊 Results: {'total': 1, 'processed': 0, 'skipped': 1, 'errors': 0}\n",
      "Search and Ingest Agent run completed successfully.\n"
     ]
    }
   ],
   "source": [
    "# # Step 1: Setup paths and imports\n",
    "import os\n",
    "os.chdir('..')\n",
    "# import sys\n",
    "\n",
    "\n",
    "# Step 2: Load environment variables\n",
    "from dotenv import load_dotenv\n",
    "load_dotenv() \n",
    "\n",
    "# Step 3: Run the Agent\n",
    "from helper_functions.search_and_ingest_agent import SearchAndIngestAgent\n",
    "\n",
    "# Use absolute path to config file\n",
    "config_path = 'helper_functions/config.yaml'\n",
    "print(f\"Loading config from: {os.path.abspath(config_path)}\")\n",
    "\n",
    "agent = SearchAndIngestAgent(config_path=config_path)\n",
    "agent.run()\n",
    "\n",
    "# Step 4: Done\n",
    "print(\"Search and Ingest Agent run completed successfully.\")\n"
   ]
  },
  {
   "cell_type": "code",
   "execution_count": null,
   "id": "d9af3e0a",
   "metadata": {},
   "outputs": [],
   "source": [
    "# Run this cell only if you've run the cell above :)\n",
    "import os\n",
    "os.chdir('notebooks')"
   ]
  },
  {
   "cell_type": "code",
   "execution_count": null,
   "id": "984009af",
   "metadata": {},
   "outputs": [],
   "source": [
    "# Run Query Agent\n",
    "\n",
    "import os\n",
    "os.chdir('..')\n",
    "from helper_functions.query_agent import QueryAgent\n",
    "import nest_asyncio\n",
    "nest_asyncio.apply()\n",
    "\n",
    "# Initialize the query agent\n",
    "\n",
    "print(\"🚀 Initializing FRED Query Agent...\")\n",
    "query_agent = QueryAgent()\n",
    "print(\"✅ Query Agent initialized!\")\n",
    "\n",
    "# Test with a simple query\n",
    "query = \"I want to know about the  rate in Germany and India\"\n",
    "print(f\"\\n📝 Testing query: '{query}'\")\n",
    "print(\"=\" * 60)\n",
    "\n",
    "# Run the query \n",
    "response = query_agent.run_query_sync(query)\n",
    "print(f\"\\n🤖 Agent Response:\\n{response}\")\n",
    "print(\"=\" * 60)\n",
    "\n"
   ]
  },
  {
   "cell_type": "code",
   "execution_count": null,
   "id": "6b866f7b",
   "metadata": {},
   "outputs": [],
   "source": []
  }
 ],
 "metadata": {
  "kernelspec": {
   "display_name": "venv",
   "language": "python",
   "name": "python3"
  },
  "language_info": {
   "codemirror_mode": {
    "name": "ipython",
    "version": 3
   },
   "file_extension": ".py",
   "mimetype": "text/x-python",
   "name": "python",
   "nbconvert_exporter": "python",
   "pygments_lexer": "ipython3",
   "version": "3.13.5"
  }
 },
 "nbformat": 4,
 "nbformat_minor": 5
}
